{
  "nbformat": 4,
  "nbformat_minor": 0,
  "metadata": {
    "colab": {
      "provenance": [],
      "authorship_tag": "ABX9TyOk5Hh4jqhOHpWmulEhfLPM",
      "include_colab_link": true
    },
    "kernelspec": {
      "name": "python3",
      "display_name": "Python 3"
    },
    "language_info": {
      "name": "python"
    }
  },
  "cells": [
    {
      "cell_type": "markdown",
      "metadata": {
        "id": "view-in-github",
        "colab_type": "text"
      },
      "source": [
        "<a href=\"https://colab.research.google.com/github/pragnapothina/assignment./blob/main/Untitled10.ipynb\" target=\"_parent\"><img src=\"https://colab.research.google.com/assets/colab-badge.svg\" alt=\"Open In Colab\"/></a>"
      ]
    },
    {
      "cell_type": "code",
      "execution_count": 1,
      "metadata": {
        "colab": {
          "base_uri": "https://localhost:8080/"
        },
        "id": "wq2__GmTeBJn",
        "outputId": "635820fb-c15b-472d-94b1-b45fbedff6a8"
      },
      "outputs": [
        {
          "output_type": "stream",
          "name": "stdout",
          "text": [
            "Mounted at /content/gdrive\n"
          ]
        }
      ],
      "source": [
        "from google.colab import drive\n",
        "drive.mount(\"/content/gdrive\")"
      ]
    },
    {
      "cell_type": "code",
      "source": [
        "import pandas as pd\n",
        "import statsmodels.api as sm\n",
        "url = '/content/gdrive/MyDrive/cleaned_data.csv'\n",
        "cleaned_data = pd.read_csv(url)\n",
        "# Perform statistical analysis (example: linear regression)\n",
        "X = cleaned_data['Age']\n",
        "X = sm.add_constant(X)  # Add a constant term\n",
        "y = cleaned_data['Grip strength (kg)']\n",
        "\n",
        "model = sm.OLS(y, X).fit()\n",
        "print(model.summary())\n",
        "\n",
        "# Save the analysis report\n",
        "with open(\"/content/gdrive/MyDrive/analysis_report.txt\", 'w') as report_file:\n",
        "    report_file.write(str(model.summary()))"
      ],
      "metadata": {
        "colab": {
          "base_uri": "https://localhost:8080/"
        },
        "id": "SkyM-YLteO7U",
        "outputId": "17734bee-24e2-4f7f-99fd-1dc0f2f449cb"
      },
      "execution_count": 6,
      "outputs": [
        {
          "output_type": "stream",
          "name": "stderr",
          "text": [
            "/usr/local/lib/python3.10/dist-packages/scipy/stats/_stats_py.py:1806: UserWarning: kurtosistest only valid for n>=20 ... continuing anyway, n=10\n",
            "  warnings.warn(\"kurtosistest only valid for n>=20 ... continuing \"\n"
          ]
        },
        {
          "output_type": "stream",
          "name": "stdout",
          "text": [
            "                            OLS Regression Results                            \n",
            "==============================================================================\n",
            "Dep. Variable:     Grip strength (kg)   R-squared:                       0.018\n",
            "Model:                            OLS   Adj. R-squared:                 -0.105\n",
            "Method:                 Least Squares   F-statistic:                    0.1457\n",
            "Date:                Wed, 27 Sep 2023   Prob (F-statistic):              0.713\n",
            "Time:                        02:39:30   Log-Likelihood:                -20.755\n",
            "No. Observations:                  10   AIC:                             45.51\n",
            "Df Residuals:                       8   BIC:                             46.12\n",
            "Df Model:                           1                                         \n",
            "Covariance Type:            nonrobust                                         \n",
            "==============================================================================\n",
            "                 coef    std err          t      P>|t|      [0.025      0.975]\n",
            "------------------------------------------------------------------------------\n",
            "const         11.1001      1.940      5.722      0.000       6.627      15.573\n",
            "Age            0.0213      0.056      0.382      0.713      -0.108       0.150\n",
            "==============================================================================\n",
            "Omnibus:                        2.843   Durbin-Watson:                   0.941\n",
            "Prob(Omnibus):                  0.241   Jarque-Bera (JB):                0.998\n",
            "Skew:                          -0.206   Prob(JB):                        0.607\n",
            "Kurtosis:                       1.508   Cond. No.                         98.8\n",
            "==============================================================================\n",
            "\n",
            "Notes:\n",
            "[1] Standard Errors assume that the covariance matrix of the errors is correctly specified.\n"
          ]
        },
        {
          "output_type": "stream",
          "name": "stderr",
          "text": [
            "/usr/local/lib/python3.10/dist-packages/scipy/stats/_stats_py.py:1806: UserWarning: kurtosistest only valid for n>=20 ... continuing anyway, n=10\n",
            "  warnings.warn(\"kurtosistest only valid for n>=20 ... continuing \"\n"
          ]
        }
      ]
    }
  ]
}